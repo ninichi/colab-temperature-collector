{
  "cells": [
    {
      "cell_type": "markdown",
      "source": [
        "## Preparation"
      ],
      "metadata": {
        "id": "pvbFG9A07M6N"
      }
    },
    {
      "cell_type": "code",
      "execution_count": null,
      "metadata": {
        "id": "LuAym1WFGdv7"
      },
      "outputs": [],
      "source": [
        "# import library\n",
        "import requests\n",
        "import pandas as pd\n",
        "import datetime\n",
        "from urllib import parse\n",
        "from bs4 import BeautifulSoup\n",
        "import time\n",
        "import json\n",
        "import re\n",
        "import os"
      ]
    },
    {
      "cell_type": "code",
      "source": [
        "from google.colab import drive\n",
        "drive.mount('/content/drive')"
      ],
      "metadata": {
        "colab": {
          "base_uri": "https://localhost:8080/"
        },
        "id": "qG0vzra6Utmw",
        "outputId": "c592f087-ad61-4ad2-cc04-351599a4d7e3"
      },
      "execution_count": null,
      "outputs": [
        {
          "output_type": "stream",
          "name": "stdout",
          "text": [
            "Mounted at /content/drive\n"
          ]
        }
      ]
    },
    {
      "cell_type": "markdown",
      "source": [
        "## Scripts for collecting by API"
      ],
      "metadata": {
        "id": "Kt7ArvjB7SuD"
      }
    },
    {
      "cell_type": "code",
      "source": [
        "current_directory = '/content/drive/MyDrive/Colab Notebooks/big data/keiba_ver2'"
      ],
      "metadata": {
        "id": "rzHE9fL5VPty"
      },
      "execution_count": null,
      "outputs": []
    },
    {
      "cell_type": "code",
      "source": [
        "course_region = {'京都':'61286', '東京':'44116', '盛岡':'33431', '大井':'44132', '中山':'45106', '中京':'51216', '船橋':'45106', '金沢':'56227', '浦和':'43241', '新潟':'54232', '佐賀':'82306', '札幌':'14163', '門別':'22141', '小倉':'82056', '函館':'23232', '福島':'36127', '川崎':'44166', '名古屋':'51216', '園田':'62051', '阪神':'62051', '高知':'74182', '水沢':'33716'}"
      ],
      "metadata": {
        "id": "DV8DVUk2a1Lj"
      },
      "execution_count": null,
      "outputs": []
    },
    {
      "cell_type": "code",
      "source": [
        "def update_temperature_data(region_name, station_id, csv_file_path):\n",
        "    # CSV 파일을 읽어오기\n",
        "    if os.path.exists(csv_file_path):\n",
        "        df = pd.read_csv(csv_file_path)\n",
        "\n",
        "        # 파일이 비어있는지 확인\n",
        "        if df.empty:\n",
        "            print(f\"{region_name}: CSV 파일이 비어 있습니다. 데이터 수집을 중지합니다.\")\n",
        "            return  # 함수 종료\n",
        "\n",
        "        last_date = pd.to_datetime(df['年月日']).max()  # 마지막 날짜\n",
        "        print(f\"{region_name} CSV 파일에서 마지막 날짜: {last_date}\")\n",
        "    else:\n",
        "        print(f\"{region_name}: CSV 파일이 존재하지 않습니다. 데이터 수집을 중지합니다.\")\n",
        "        return  # 함수 종료\n",
        "\n",
        "    # 오늘 날짜 전날까지 수집할 날짜 설정\n",
        "    today = datetime.date.today()\n",
        "    start_date = last_date.date() + datetime.timedelta(days=1)  # 마지막 날짜를 datetime.date로 변환\n",
        "    end_date = today - datetime.timedelta(days=1)\n",
        "\n",
        "    if start_date > end_date:\n",
        "        print(f\"{region_name}: 추가할 데이터가 없습니다.\")\n",
        "        return  # 함수 종료\n",
        "\n",
        "    # 수집한 데이터를 저장할 리스트\n",
        "    new_data = []\n",
        "\n",
        "    # 날짜 범위 동안의 데이터를 수집\n",
        "    current_date = start_date\n",
        "    while current_date <= end_date:\n",
        "        yyyymmdd = current_date.strftime(\"%Y%m%d\")\n",
        "        amedas_url = f\"https://www.jma.go.jp/bosai/amedas/data/point/{station_id}/{yyyymmdd}_00.json\"\n",
        "\n",
        "        try:\n",
        "            amedas_req = requests.get(amedas_url)\n",
        "            amedas_data = amedas_req.json()\n",
        "\n",
        "            # 하루 동안의 기온 데이터를 수집하고 평균 계산\n",
        "            temperatures = []\n",
        "            for hour_data in amedas_data.values():\n",
        "                if 'temp' in hour_data and hour_data['temp'][0] is not None:\n",
        "                    temperatures.append(hour_data['temp'][0])\n",
        "\n",
        "            if temperatures:\n",
        "                average_temperature = sum(temperatures) / len(temperatures)\n",
        "                # 소수점 1자리까지 반올림\n",
        "                rounded_temperature = round(average_temperature, 1)\n",
        "                new_data.append({\n",
        "                    \"年月日\": current_date.strftime(\"%Y-%m-%d\"),\n",
        "                    \"平均気温(℃)\": rounded_temperature\n",
        "                })\n",
        "            else:\n",
        "                print(f\"{current_date}에 기온 데이터가 없습니다.\")\n",
        "\n",
        "        except requests.exceptions.JSONDecodeError:\n",
        "            print(f\"{current_date}에 데이터를 불러오지 못했습니다.\")\n",
        "\n",
        "        # 날짜를 하루씩 증가\n",
        "        current_date += datetime.timedelta(days=1)\n",
        "\n",
        "    # 수집한 데이터를 기존 CSV 파일에 추가\n",
        "    if new_data:\n",
        "        new_df = pd.DataFrame(new_data)\n",
        "        df = pd.concat([df, new_df], ignore_index=True)\n",
        "        df.to_csv(csv_file_path, index=False)\n",
        "        print(f\"{region_name}: 데이터를 업데이트하였습니다.\")\n",
        "    else:\n",
        "        print(f\"{region_name}: 수집된 데이터가 없습니다.\")"
      ],
      "metadata": {
        "id": "63dah-8HUW7d"
      },
      "execution_count": null,
      "outputs": []
    },
    {
      "cell_type": "code",
      "source": [
        "# 각 지역에 대해 데이터를 업데이트\n",
        "def run_update_temperature_data():\n",
        "    for region, station_id in course_region.items():\n",
        "        csv_file_path = f\"{current_directory}/気温/{region}/{region}.csv\"  # 각 지역에 맞는 파일명\n",
        "        update_temperature_data(region, station_id, csv_file_path)\n",
        "\n",
        "        return 'finish!'"
      ],
      "metadata": {
        "id": "GJ7FSqmxnywN"
      },
      "execution_count": null,
      "outputs": []
    },
    {
      "cell_type": "markdown",
      "source": [
        "## Start Collecting"
      ],
      "metadata": {
        "id": "Na_1yhmv7crv"
      }
    },
    {
      "cell_type": "code",
      "source": [
        "run_update_temperature_data()"
      ],
      "metadata": {
        "id": "NoLy_jWj51OG"
      },
      "execution_count": null,
      "outputs": []
    }
  ],
  "metadata": {
    "kernelspec": {
      "display_name": "Python 3",
      "language": "python",
      "name": "python3"
    },
    "language_info": {
      "codemirror_mode": {
        "name": "ipython",
        "version": 3
      },
      "file_extension": ".py",
      "mimetype": "text/x-python",
      "name": "python",
      "nbconvert_exporter": "python",
      "pygments_lexer": "ipython3",
      "version": "3.11.9"
    },
    "colab": {
      "provenance": [],
      "collapsed_sections": [
        "pvbFG9A07M6N",
        "Kt7ArvjB7SuD"
      ]
    }
  },
  "nbformat": 4,
  "nbformat_minor": 0
}